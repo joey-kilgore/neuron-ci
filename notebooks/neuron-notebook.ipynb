{
 "cells": [
  {
   "cell_type": "markdown",
   "metadata": {},
   "source": [
    "# NEURON and Jupyter Notebooks\n",
    "Jupyter notebooks allow for us to give an interactive and explanatory look into code snippets allowing for a deeper learning experience.\n",
    "This also means we have a method of having a single notebook containing a multiple different figures."
   ]
  },
  {
   "cell_type": "markdown",
   "metadata": {},
   "source": [
    "## Setting up the notebook\n",
    "First thing we can do is import and setup neuron. If needed you can run ```pip install neuron``` or go through some of the other installation methods.\n",
    "\n",
    "We are also going to change the working directory so it is easier to access different files."
   ]
  },
  {
   "cell_type": "code",
   "execution_count": 1,
   "metadata": {},
   "outputs": [
    {
     "name": "stdout",
     "output_type": "stream",
     "text": [
      "/home/joey/repos/neuron-ci/notebooks/\n",
      "\t0 \n",
      "/home/joey/repos/neuron-ci/\n"
     ]
    },
    {
     "data": {
      "text/plain": [
       "1"
      ]
     },
     "execution_count": 1,
     "metadata": {},
     "output_type": "execute_result"
    }
   ],
   "source": [
    "import neuron\n",
    "from neuron import gui\n",
    "h = neuron.h\n",
    "\n",
    "h('getcwd()')\n",
    "h('chdir(\"../\")')\n",
    "h('getcwd()')"
   ]
  },
  {
   "cell_type": "code",
   "execution_count": 2,
   "metadata": {},
   "outputs": [
    {
     "name": "stdout",
     "output_type": "stream",
     "text": [
      "\t1 \n"
     ]
    },
    {
     "data": {
      "text/plain": [
       "1"
      ]
     },
     "execution_count": 2,
     "metadata": {},
     "output_type": "execute_result"
    }
   ],
   "source": [
    "h('nrn_load_dll(\"./x86_64/.libs/libnrnmech.so\")')"
   ]
  },
  {
   "cell_type": "markdown",
   "metadata": {},
   "source": [
    "## Python and hoc interfacing\n",
    "We can test if neuron was setup correctly by running a simple calculation and checking the output. The challenge here is that the return value from running any code is always 1 (if it was successful, so to access the value of our calculation we need to store our value and then access it from python."
   ]
  },
  {
   "cell_type": "code",
   "execution_count": 3,
   "metadata": {},
   "outputs": [
    {
     "name": "stdout",
     "output_type": "stream",
     "text": [
      "Sample calculation\n",
      "\t10 \n",
      "1\n",
      "\n",
      "Using a hoc variable\n",
      "10.0\n"
     ]
    }
   ],
   "source": [
    "# running a calculation in hoc, but not being able to access the result\n",
    "print(\"Sample calculation\")\n",
    "print(h('5+5'))\n",
    "\n",
    "# by using a hoc variable we can access the result in python\n",
    "print(\"\\n\" + \"Using a hoc variable\")\n",
    "h('sum = 5+5')\n",
    "print(h.sum)"
   ]
  },
  {
   "cell_type": "markdown",
   "metadata": {},
   "source": [
    "## Loading hoc files"
   ]
  },
  {
   "cell_type": "code",
   "execution_count": 4,
   "metadata": {},
   "outputs": [
    {
     "name": "stdout",
     "output_type": "stream",
     "text": [
      "\t1 \n",
      "\t9 \n"
     ]
    },
    {
     "data": {
      "text/plain": [
       "1"
      ]
     },
     "execution_count": 4,
     "metadata": {},
     "output_type": "execute_result"
    }
   ],
   "source": [
    "h('load_file(\"./sim/calculator.hoc\")')\n",
    "h('add(5,4)')"
   ]
  },
  {
   "cell_type": "markdown",
   "metadata": {},
   "source": [
    "## Sample Ball-and-stick Tutorial\n",
    "This is all sample code taken from the neuron tutorials [see here](https://neuron.yale.edu/neuron/static/docs/neuronpython/ballandstick1.html)\n",
    "\n",
    "The difference between the tutorial is that we are accessing the model that *we* created (named hhNew). Make sure that the models have been compiled and that the dll has loaded successfully."
   ]
  },
  {
   "cell_type": "code",
   "execution_count": 5,
   "metadata": {},
   "outputs": [
    {
     "name": "stdout",
     "output_type": "stream",
     "text": [
      "\n",
      "|-|       soma(0-1)\n",
      "   `|       dend(0-1)\n",
      "\n",
      "Surface area of soma = 500.00296377255506\n"
     ]
    }
   ],
   "source": [
    "soma = h.Section(name='soma')\n",
    "dend = h.Section(name='dend')\n",
    "dend.connect(soma(1))\n",
    "h.topology()\n",
    "\n",
    "soma.L = soma.diam = 12.6157 # Makes a soma of 500 microns squared.\n",
    "dend.L = 200 # microns\n",
    "dend.diam = 1 # microns\n",
    "print(\"Surface area of soma = {}\".format(soma(0.5).area()))"
   ]
  },
  {
   "cell_type": "code",
   "execution_count": 6,
   "metadata": {},
   "outputs": [],
   "source": [
    "for sec in h.allsec():\n",
    "    sec.Ra = 100    # Axial resistance in Ohm * cm\n",
    "    sec.cm = 1      # Membrane capacitance in micro Farads / cm^2\n",
    "\n",
    "# Insert active Hodgkin-Huxley current in the soma\n",
    "soma.insert('hhNew')\n",
    "for seg in soma:\n",
    "    seg.hhNew.gnabar = 0.12  # Sodium conductance in S/cm2\n",
    "    seg.hhNew.gkbar = 0.036  # Potassium conductance in S/cm2\n",
    "    seg.hhNew.gl = 0.0003    # Leak conductance in S/cm2\n",
    "    seg.hhNew.el = -54.3     # Reversal potential in mV\n",
    "\n",
    "# Insert passive current in the dendrite\n",
    "dend.insert('pas')\n",
    "for seg in dend:\n",
    "    seg.pas.g = 0.001  # Passive conductance in S/cm2\n",
    "    seg.pas.e = -65    # Leak reversal potential mV"
   ]
  },
  {
   "cell_type": "code",
   "execution_count": 7,
   "metadata": {},
   "outputs": [],
   "source": [
    "stim = h.IClamp(dend(1))\n",
    "stim.delay = 5\n",
    "stim.dur = 1\n",
    "stim.amp = 0.1"
   ]
  },
  {
   "cell_type": "code",
   "execution_count": 8,
   "metadata": {},
   "outputs": [
    {
     "data": {
      "image/png": "[encoded data removed]",
      "text/plain": [
       "<Figure size 432x288 with 1 Axes>"
      ]
     },
     "metadata": {
      "needs_background": "dark"
     },
     "output_type": "display_data"
    }
   ],
   "source": [
    "v_vec = h.Vector()        # Membrane potential vector\n",
    "t_vec = h.Vector()        # Time stamp vector\n",
    "v_vec.record(soma(0.5)._ref_v)\n",
    "t_vec.record(h._ref_t)\n",
    "simdur = 25.0\n",
    "\n",
    "h.tstop = simdur\n",
    "h.run()\n",
    "\n",
    "import matplotlib.pyplot as plt\n",
    "fig = plt.figure()\n",
    "ax = fig.add_subplot(111)\n",
    "\n",
    "ax.plot(t_vec, v_vec)\n",
    "ax.set_xlabel('Time (ms)')\n",
    "ax.set_ylabel('Transmembrane Potential (mV)')\n",
    "ax.xaxis.label.set_color('white')\n",
    "ax.yaxis.label.set_color('white')\n",
    "\n",
    "ax.spines['left'].set_color('white')\n",
    "ax.spines['bottom'].set_color('white')\n",
    "ax.tick_params(colors='white')\n",
    "\n",
    "plt.show()"
   ]
  },
  {
   "cell_type": "code",
   "execution_count": 9,
   "metadata": {},
   "outputs": [
    {
     "data": {
      "image/png": "[encoded data removed]",
      "text/plain": [
       "<Figure size 576x288 with 1 Axes>"
      ]
     },
     "metadata": {
      "needs_background": "light"
     },
     "output_type": "display_data"
    }
   ],
   "source": [
    "import numpy\n",
    "plt.figure(figsize=(8,4))\n",
    "step = 0.075\n",
    "num_steps = 4\n",
    "for i in numpy.linspace(step, step*num_steps, num_steps):\n",
    "    stim.amp = i\n",
    "    h.tstop = simdur\n",
    "    h.run()\n",
    "    plt.plot(t_vec, v_vec, color='black')\n",
    "\n",
    "plt.xlabel('time (ms)')\n",
    "plt.ylabel('mV')\n",
    "plt.show()"
   ]
  },
  {
   "cell_type": "code",
   "execution_count": 10,
   "metadata": {},
   "outputs": [
    {
     "data": {
      "image/png": "[encoded data removed]",
      "text/plain": [
       "<Figure size 576x288 with 1 Axes>"
      ]
     },
     "metadata": {
      "needs_background": "light"
     },
     "output_type": "display_data"
    }
   ],
   "source": [
    "dend_v_vec = h.Vector()        # Membrane potential vector\n",
    "dend_v_vec.record(dend(0.5)._ref_v)\n",
    "\n",
    "plt.figure(figsize=(8,4))\n",
    "for i in numpy.linspace(step, step*num_steps, num_steps):\n",
    "    stim.amp = i\n",
    "    h.tstop = simdur\n",
    "    h.run()\n",
    "    soma_plot = plt.plot(t_vec, v_vec, color='black')\n",
    "    dend_plot = plt.plot(t_vec, dend_v_vec, color='red')\n",
    "\n",
    "# After looping, actually draw the image with show.\n",
    "# For legend labels, use the last instances we plotted\n",
    "plt.legend(soma_plot + dend_plot, ['soma', 'dend'])\n",
    "plt.xlabel('time (ms)')\n",
    "plt.ylabel('mV')\n",
    "plt.show()"
   ]
  }
 ],
 "metadata": {
  "kernelspec": {
   "display_name": "Python 3",
   "language": "python",
   "name": "python3"
  },
  "language_info": {
   "codemirror_mode": {
    "name": "ipython",
    "version": 3
   },
   "file_extension": ".py",
   "mimetype": "text/x-python",
   "name": "python",
   "nbconvert_exporter": "python",
   "pygments_lexer": "ipython3",
   "version": "3.8.10"
  }
 },
 "nbformat": 4,
 "nbformat_minor": 4
}
